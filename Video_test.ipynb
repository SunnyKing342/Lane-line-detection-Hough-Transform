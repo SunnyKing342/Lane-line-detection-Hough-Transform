{
 "cells": [
  {
   "cell_type": "code",
   "execution_count": null,
   "id": "58cdc803",
   "metadata": {},
   "outputs": [],
   "source": [
    "import matplotlib.pylab as plt\n",
    "import cv2 as cv\n",
    "import numpy as np\n",
    "\n",
    "vid = cv.VideoCapture(\"Lane detect test data.mp4\")\n",
    "while True:\n",
    "    ret, frame = vid.read()\n",
    "    hsv = cv.cvtColor(frame,cv.COLOR_BGR2HSV)\n",
    "    blur = cv.GaussianBlur(hsv, (9,9), 0)\n",
    "    #low_yellow = np.array([18,92,140])\n",
    "    #upper_yellow = np.array([48,255,255])\n",
    "    #mask = cv.inRange(hsv, low_yellow, upper_yellow)\n",
    "    canny_image = cv.Canny(blur, 155, 230)\n",
    "    \n",
    "    lines = cv.HoughLinesP(canny_image, 4, np.pi/180, 50,50)\n",
    "    if lines is not None:\n",
    "        for line in lines:\n",
    "            x1,y1,x2,y2 = line[0]\n",
    "            cv.line(frame,(x1,y1), (x2,y2), (0,255,255),5)\n",
    "        \n",
    "    \n",
    "    cv.imshow(\"Original\", frame)\n",
    "    cv.imshow(\"Mask\", canny_image)\n",
    "    k = cv.waitKey(30) & 0xff\n",
    "    if k==27:\n",
    "        break\n",
    "# Release the VideoCapture object\n",
    "vid.release()\n",
    "cv.destroyAllWindows()"
   ]
  }
 ],
 "metadata": {
  "kernelspec": {
   "display_name": "Python 3 (ipykernel)",
   "language": "python",
   "name": "python3"
  },
  "language_info": {
   "codemirror_mode": {
    "name": "ipython",
    "version": 3
   },
   "file_extension": ".py",
   "mimetype": "text/x-python",
   "name": "python",
   "nbconvert_exporter": "python",
   "pygments_lexer": "ipython3",
   "version": "3.9.15"
  }
 },
 "nbformat": 4,
 "nbformat_minor": 5
}
